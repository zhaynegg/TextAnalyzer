{
 "cells": [
  {
   "cell_type": "code",
   "execution_count": null,
   "id": "c2a4e18f-dbdc-42d6-b01c-42d3c0515958",
   "metadata": {},
   "outputs": [],
   "source": []
  }
 ],
 "metadata": {
  "kernelspec": {
   "display_name": "",
   "name": ""
  },
  "language_info": {
   "name": ""
  }
 },
 "nbformat": 4,
 "nbformat_minor": 5
}
